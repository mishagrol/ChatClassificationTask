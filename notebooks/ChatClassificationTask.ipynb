{
 "cells": [
  {
   "cell_type": "markdown",
   "metadata": {},
   "source": [
    "# Тестовое задание на позицию DS'а"
   ]
  },
  {
   "cell_type": "markdown",
   "metadata": {},
   "source": [
    "## Описание датасета"
   ]
  },
  {
   "cell_type": "markdown",
   "metadata": {},
   "source": [
    "В этом задании предлагается классифицировать сообщения на предмет того, из какого чата они были взяты. Датасет представляет собой сообщения участников двух публичных чатов:\n",
    "* Чат по Python (label=0)\n",
    "* Чат по Data Science (label=1)"
   ]
  },
  {
   "cell_type": "markdown",
   "metadata": {},
   "source": [
    "## Описание задачи"
   ]
  },
  {
   "cell_type": "markdown",
   "metadata": {},
   "source": [
    "Ваша задача:\n",
    "1. Сделать предобработку текстов\n",
    "2. Предложить модель классификации, метрики.\n",
    "3. Объяснить их выбор (достоинства/недостатки). \n",
    "4. Сделать выводы по работе модели(ей) (достоинства/недостатки), а также проблемы, с которыми вы или ваша модель столкнулась.\n",
    "\n",
    "Было бы интересно посмотреть не только на финальное решение, но и на эксперименты (даже провальные). "
   ]
  },
  {
   "cell_type": "markdown",
   "metadata": {},
   "source": [
    "## Загрузка данных"
   ]
  },
  {
   "cell_type": "code",
   "execution_count": 29,
   "metadata": {},
   "outputs": [
    {
     "data": {
      "text/html": [
       "<div>\n",
       "<style scoped>\n",
       "    .dataframe tbody tr th:only-of-type {\n",
       "        vertical-align: middle;\n",
       "    }\n",
       "\n",
       "    .dataframe tbody tr th {\n",
       "        vertical-align: top;\n",
       "    }\n",
       "\n",
       "    .dataframe thead th {\n",
       "        text-align: right;\n",
       "    }\n",
       "</style>\n",
       "<table border=\"1\" class=\"dataframe\">\n",
       "  <thead>\n",
       "    <tr style=\"text-align: right;\">\n",
       "      <th></th>\n",
       "      <th>text</th>\n",
       "      <th>label</th>\n",
       "    </tr>\n",
       "  </thead>\n",
       "  <tbody>\n",
       "    <tr>\n",
       "      <th>12124</th>\n",
       "      <td>Бедность — не порок. А вот зависть — да.</td>\n",
       "      <td>0</td>\n",
       "    </tr>\n",
       "    <tr>\n",
       "      <th>281</th>\n",
       "      <td>Ну там четверть кораблей все точки далеко от суши... Я попробовал, но не осилил</td>\n",
       "      <td>1</td>\n",
       "    </tr>\n",
       "    <tr>\n",
       "      <th>9988</th>\n",
       "      <td>А как думаешь сейчас какое распределение телефонов 2g меньше всех ? А больше 3g или 4?</td>\n",
       "      <td>1</td>\n",
       "    </tr>\n",
       "    <tr>\n",
       "      <th>10339</th>\n",
       "      <td>Я понял...но мне так нельзя... Поэтому спрашиваю на коль о хуже будет если я усредню коэф линенй моделей... И получу снова одну ЛИНЕЙНУЮ модель</td>\n",
       "      <td>1</td>\n",
       "    </tr>\n",
       "    <tr>\n",
       "      <th>1691</th>\n",
       "      <td>а что пишет? там после того, как нажал кнопочку \"отправить\", надо минутку подождать, пока файл на сервер отправится?</td>\n",
       "      <td>1</td>\n",
       "    </tr>\n",
       "  </tbody>\n",
       "</table>\n",
       "</div>"
      ],
      "text/plain": [
       "                                                                                                                                                  text  \\\n",
       "12124  Бедность — не порок. А вот зависть — да.                                                                                                          \n",
       "281    Ну там четверть кораблей все точки далеко от суши... Я попробовал, но не осилил                                                                   \n",
       "9988   А как думаешь сейчас какое распределение телефонов 2g меньше всех ? А больше 3g или 4?                                                            \n",
       "10339  Я понял...но мне так нельзя... Поэтому спрашиваю на коль о хуже будет если я усредню коэф линенй моделей... И получу снова одну ЛИНЕЙНУЮ модель   \n",
       "1691   а что пишет? там после того, как нажал кнопочку \"отправить\", надо минутку подождать, пока файл на сервер отправится?                              \n",
       "\n",
       "       label  \n",
       "12124  0      \n",
       "281    1      \n",
       "9988   1      \n",
       "10339  1      \n",
       "1691   1      "
      ]
     },
     "execution_count": 29,
     "metadata": {},
     "output_type": "execute_result"
    }
   ],
   "source": [
    "import pandas as pd\n",
    "pd.set_option('display.max_colwidth', -1)\n",
    "\n",
    "df = pd.read_csv('data/train.csv')\n",
    "df.sample(5)"
   ]
  },
  {
   "cell_type": "markdown",
   "metadata": {},
   "source": [
    "## Ваше решение"
   ]
  },
  {
   "cell_type": "markdown",
   "metadata": {},
   "source": [
    "Для решения были использованы ряд сторонних функций для работы с моделями, for insporatiow followed tutorials and repos were used\n",
    "\n",
    "* https://github.com/shitkov/bert4classification"
   ]
  },
  {
   "cell_type": "code",
   "execution_count": null,
   "metadata": {},
   "outputs": [],
   "source": []
  },
  {
   "cell_type": "markdown",
   "metadata": {},
   "source": [
    "Итоговую модель далее нужно:\n",
    "1. Обернуть в класс\n",
    "2. Развернуть модель как REST API\n",
    "3. Предоставить инструкцию что нужно сделать чтобы развернуть апи модели у себя на компьютере "
   ]
  },
  {
   "cell_type": "code",
   "execution_count": null,
   "metadata": {},
   "outputs": [],
   "source": []
  }
 ],
 "metadata": {
  "kernelspec": {
   "display_name": "Python 3",
   "language": "python",
   "name": "python3"
  },
  "language_info": {
   "codemirror_mode": {
    "name": "ipython",
    "version": 3
   },
   "file_extension": ".py",
   "mimetype": "text/x-python",
   "name": "python",
   "nbconvert_exporter": "python",
   "pygments_lexer": "ipython3",
   "version": "3.7.3"
  }
 },
 "nbformat": 4,
 "nbformat_minor": 2
}
